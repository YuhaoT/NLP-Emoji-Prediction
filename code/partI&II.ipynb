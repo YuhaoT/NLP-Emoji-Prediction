{
 "cells": [
  {
   "cell_type": "code",
   "execution_count": 1,
   "metadata": {},
   "outputs": [],
   "source": [
    "import glob\n",
    "from multiprocessing import Pool\n",
    "import sys\n",
    "import nltk\n",
    "import os\n",
    "import re\n",
    "import codecs\n",
    "import preprocessor as p\n",
    "from nltk.corpus import stopwords\n",
    "from nltk.tokenize import word_tokenize\n",
    "from string import punctuation\n",
    "from nltk.stem.snowball import EnglishStemmer\n",
    "from nltk.stem.snowball import SpanishStemmer\n",
    "import numpy as np\n",
    "from sklearn.feature_extraction.text import TfidfVectorizer\n",
    "from sklearn.linear_model import LogisticRegression\n",
    "from sklearn.ensemble import RandomForestClassifier"
   ]
  },
  {
   "cell_type": "code",
   "execution_count": 2,
   "metadata": {},
   "outputs": [],
   "source": [
    "# !pip install tweet-preprocessor"
   ]
  },
  {
   "cell_type": "code",
   "execution_count": 3,
   "metadata": {},
   "outputs": [],
   "source": [
    "stop_words = set( (stopwords.words('english')) + (stopwords.words('spanish')) )"
   ]
  },
  {
   "cell_type": "code",
   "execution_count": 4,
   "metadata": {},
   "outputs": [
    {
     "data": {
      "text/plain": [
       "485"
      ]
     },
     "execution_count": 4,
     "metadata": {},
     "output_type": "execute_result"
    }
   ],
   "source": [
    "len(stop_words)"
   ]
  },
  {
   "cell_type": "code",
   "execution_count": 5,
   "metadata": {},
   "outputs": [],
   "source": [
    "with open(\"data/train/english_train.text\", 'r') as f:\n",
    "    en_train_texts = [l.strip() for l in f]\n",
    "\n",
    "with open('data/train/english_train.labels', 'r') as f:\n",
    "    en_train_labels = [int(l.strip()) for l in f]\n",
    "\n",
    "with open(\"data/test/english_test.text\", 'r') as f:\n",
    "    en_test_texts = [l.strip() for l in f]\n",
    "\n",
    "with open('data/test/english_test.labels', 'r') as f:\n",
    "    en_test_labels = [int(l.strip()) for l in f]\n",
    "\n",
    "with open(\"data/train/spanish_train.text\", 'r') as f:\n",
    "    sp_train_texts = [l.strip() for l in f]\n",
    "\n",
    "with open('data/train/spanish_train.labels', 'r') as f:\n",
    "    sp_train_labels = [int(l.strip()) for l in f]\n",
    "\n",
    "with open(\"data/test/spanish_test.text\", 'r') as f:\n",
    "    sp_test_texts = [l.strip() for l in f]\n",
    "\n",
    "with open('data/test/spanish_test.labels', 'r') as f:\n",
    "    sp_test_labels = [int(l.strip()) for l in f]"
   ]
  },
  {
   "cell_type": "code",
   "execution_count": 6,
   "metadata": {},
   "outputs": [],
   "source": [
    "#tweeter preprocessor\n",
    "p.set_options(p.OPT.URL, p.OPT.SMILEY, p.OPT.MENTION)"
   ]
  },
  {
   "cell_type": "code",
   "execution_count": 7,
   "metadata": {},
   "outputs": [],
   "source": [
    "#Stemmer for English\n",
    "get_stem_en = EnglishStemmer()\n",
    "\n",
    "#prepare to remove punctuation\n",
    "translator = str.maketrans(\"\", \"\", punctuation)"
   ]
  },
  {
   "cell_type": "code",
   "execution_count": 8,
   "metadata": {},
   "outputs": [],
   "source": [
    "def clean_text_en(texts):\n",
    "    result = []\n",
    "    for text in texts:\n",
    "        #remove URL, Smiley, and @user\n",
    "        text = p.clean(text)\n",
    "        \n",
    "        #make everything lower case\n",
    "        text = text.lower()\n",
    "        #remove stopwords\n",
    "        text = ' '.join([i for i in text.split() if i not in stop_words])\n",
    "        #remove punctuation\n",
    "        text = text.translate(translator)\n",
    "        #change every word to stem word\n",
    "        text = [get_stem_en.stem(i) for i  in word_tokenize(text)]\n",
    "        result.append(' '.join(text))\n",
    "    \n",
    "    return result"
   ]
  },
  {
   "cell_type": "code",
   "execution_count": 9,
   "metadata": {},
   "outputs": [],
   "source": [
    "en_train_texts_cleaned = clean_text_en(en_train_texts)\n",
    "en_test_texts_cleaned = clean_text_en(en_test_texts)"
   ]
  },
  {
   "cell_type": "code",
   "execution_count": 10,
   "metadata": {},
   "outputs": [],
   "source": [
    "get_stem_sp = SpanishStemmer()\n",
    "def clean_text_sp(texts):\n",
    "    result = []\n",
    "    for text in texts:\n",
    "        #remove URL links, Smiley, and @user\n",
    "        text = p.clean(text)\n",
    "        \n",
    "        #make everything lower case\n",
    "        text = text.lower()\n",
    "        #remove stopwords\n",
    "        text = ' '.join([i for i in text.split() if i not in stop_words])\n",
    "        #remove punctuation\n",
    "        text = text.translate(translator)\n",
    "        #change every word to stem word\n",
    "        text = [get_stem_sp.stem(i) for i  in word_tokenize(text)]\n",
    "        result.append(' '.join(text))\n",
    "    \n",
    "    return result"
   ]
  },
  {
   "cell_type": "code",
   "execution_count": 11,
   "metadata": {},
   "outputs": [],
   "source": [
    "sp_train_texts_cleaned = clean_text_sp(sp_train_texts)\n",
    "sp_test_texts_cleaned = clean_text_sp(sp_test_texts)"
   ]
  },
  {
   "cell_type": "code",
   "execution_count": 12,
   "metadata": {},
   "outputs": [],
   "source": [
    "with codecs.open(\"en_train_texts_cleaned.txt\",'w',\"utf-8\") as out_fs:\n",
    "    for each in en_train_texts_cleaned:\n",
    "        out_fs.write(each + \"\\n\")"
   ]
  },
  {
   "cell_type": "code",
   "execution_count": 13,
   "metadata": {},
   "outputs": [],
   "source": [
    "with codecs.open(\"en_test_texts_cleaned.txt\",'w',\"utf-8\") as out_fs:\n",
    "    for each in en_test_texts_cleaned:\n",
    "        out_fs.write(each + \"\\n\")"
   ]
  },
  {
   "cell_type": "code",
   "execution_count": 14,
   "metadata": {},
   "outputs": [],
   "source": [
    "with codecs.open(\"sp_train_texts_cleaned.txt\",'w',\"utf-8\") as out_fs:\n",
    "    for each in sp_train_texts_cleaned:\n",
    "        out_fs.write(each + \"\\n\")"
   ]
  },
  {
   "cell_type": "code",
   "execution_count": 15,
   "metadata": {},
   "outputs": [],
   "source": [
    "with codecs.open(\"sp_test_texts_cleaned.txt\",'w',\"utf-8\") as out_fs:\n",
    "    for each in sp_test_texts_cleaned:\n",
    "        out_fs.write(each + \"\\n\")"
   ]
  },
  {
   "cell_type": "markdown",
   "metadata": {},
   "source": [
    "# English\n",
    "## Logistic Regression"
   ]
  },
  {
   "cell_type": "code",
   "execution_count": 16,
   "metadata": {},
   "outputs": [],
   "source": [
    "with open(\"en_train_texts_cleaned.txt\", 'r') as f:\n",
    "    en_train_texts_cleaned_read = [l.strip() for l in f]"
   ]
  },
  {
   "cell_type": "code",
   "execution_count": 17,
   "metadata": {},
   "outputs": [],
   "source": [
    "with open(\"en_test_texts_cleaned.txt\", 'r') as f:\n",
    "    en_test_texts_cleaned_read = [l.strip() for l in f]"
   ]
  },
  {
   "cell_type": "code",
   "execution_count": 18,
   "metadata": {},
   "outputs": [],
   "source": [
    "tf = TfidfVectorizer()\n",
    "en_train_tf = tf.fit_transform(en_train_texts_cleaned_read)"
   ]
  },
  {
   "cell_type": "code",
   "execution_count": 19,
   "metadata": {},
   "outputs": [
    {
     "name": "stderr",
     "output_type": "stream",
     "text": [
      "/Users/yuhao/opt/anaconda3/lib/python3.7/site-packages/sklearn/linear_model/logistic.py:432: FutureWarning: Default solver will be changed to 'lbfgs' in 0.22. Specify a solver to silence this warning.\n",
      "  FutureWarning)\n",
      "/Users/yuhao/opt/anaconda3/lib/python3.7/site-packages/sklearn/linear_model/logistic.py:469: FutureWarning: Default multi_class will be changed to 'auto' in 0.22. Specify the multi_class option to silence this warning.\n",
      "  \"this warning.\", FutureWarning)\n"
     ]
    },
    {
     "data": {
      "text/plain": [
       "LogisticRegression(C=1.0, class_weight=None, dual=False, fit_intercept=True,\n",
       "                   intercept_scaling=1, l1_ratio=None, max_iter=100,\n",
       "                   multi_class='warn', n_jobs=None, penalty='l2',\n",
       "                   random_state=None, solver='warn', tol=0.0001, verbose=0,\n",
       "                   warm_start=False)"
      ]
     },
     "execution_count": 19,
     "metadata": {},
     "output_type": "execute_result"
    }
   ],
   "source": [
    "LR = LogisticRegression()\n",
    "LR.fit(en_train_tf, en_train_labels)"
   ]
  },
  {
   "cell_type": "code",
   "execution_count": 20,
   "metadata": {},
   "outputs": [],
   "source": [
    "en_test_tf = tf.transform(en_test_texts_cleaned_read)"
   ]
  },
  {
   "cell_type": "code",
   "execution_count": 21,
   "metadata": {},
   "outputs": [],
   "source": [
    "en_pred = LR.predict(en_test_tf)"
   ]
  },
  {
   "cell_type": "code",
   "execution_count": 22,
   "metadata": {},
   "outputs": [],
   "source": [
    "np.savetxt('en_predicted_labels_file.txt', en_pred, fmt='%d')"
   ]
  },
  {
   "cell_type": "code",
   "execution_count": 23,
   "metadata": {},
   "outputs": [
    {
     "name": "stdout",
     "output_type": "stream",
     "text": [
      "Macro F-Score (official): 19.946\n",
      "-----\n",
      "Micro F-Score: 32.7\n",
      "Precision: 32.7\n",
      "Recall: 32.7\n"
     ]
    }
   ],
   "source": [
    "%run scorer_semeval18.py data/test/english_test.labels en_predicted_labels_file.txt"
   ]
  },
  {
   "cell_type": "markdown",
   "metadata": {},
   "source": [
    "### Try a bigramm tfidf vectorizer"
   ]
  },
  {
   "cell_type": "code",
   "execution_count": 24,
   "metadata": {},
   "outputs": [
    {
     "name": "stderr",
     "output_type": "stream",
     "text": [
      "/Users/yuhao/opt/anaconda3/lib/python3.7/site-packages/sklearn/linear_model/logistic.py:432: FutureWarning: Default solver will be changed to 'lbfgs' in 0.22. Specify a solver to silence this warning.\n",
      "  FutureWarning)\n",
      "/Users/yuhao/opt/anaconda3/lib/python3.7/site-packages/sklearn/linear_model/logistic.py:469: FutureWarning: Default multi_class will be changed to 'auto' in 0.22. Specify the multi_class option to silence this warning.\n",
      "  \"this warning.\", FutureWarning)\n"
     ]
    },
    {
     "name": "stdout",
     "output_type": "stream",
     "text": [
      "Macro F-Score (official): 17.631\n",
      "-----\n",
      "Micro F-Score: 32.09\n",
      "Precision: 32.09\n",
      "Recall: 32.09\n"
     ]
    }
   ],
   "source": [
    "tf2 = TfidfVectorizer(ngram_range=(-2,2))\n",
    "en_train_tf = tf2.fit_transform(en_train_texts_cleaned_read)\n",
    "en_test_tf = tf2.transform(en_test_texts_cleaned_read)\n",
    "\n",
    "LR.fit(en_train_tf, en_train_labels)\n",
    "en_pred = LR.predict(en_test_tf)\n",
    "np.savetxt('en_predicted_labels_file.txt', en_pred, fmt='%d')\n",
    "%run scorer_semeval18.py data/test/english_test.labels en_predicted_labels_file.txt"
   ]
  },
  {
   "cell_type": "markdown",
   "metadata": {},
   "source": [
    "### Try different parameter for Logistic Regression"
   ]
  },
  {
   "cell_type": "code",
   "execution_count": 25,
   "metadata": {},
   "outputs": [],
   "source": [
    "en_train_tf = tf.fit_transform(en_train_texts_cleaned_read)\n",
    "en_test_tf = tf.transform(en_test_texts_cleaned_read)"
   ]
  },
  {
   "cell_type": "code",
   "execution_count": 26,
   "metadata": {
    "scrolled": true
   },
   "outputs": [
    {
     "name": "stdout",
     "output_type": "stream",
     "text": [
      "C:  2\n"
     ]
    },
    {
     "name": "stderr",
     "output_type": "stream",
     "text": [
      "/Users/yuhao/opt/anaconda3/lib/python3.7/site-packages/sklearn/linear_model/logistic.py:432: FutureWarning: Default solver will be changed to 'lbfgs' in 0.22. Specify a solver to silence this warning.\n",
      "  FutureWarning)\n",
      "/Users/yuhao/opt/anaconda3/lib/python3.7/site-packages/sklearn/linear_model/logistic.py:469: FutureWarning: Default multi_class will be changed to 'auto' in 0.22. Specify the multi_class option to silence this warning.\n",
      "  \"this warning.\", FutureWarning)\n"
     ]
    },
    {
     "name": "stdout",
     "output_type": "stream",
     "text": [
      "Macro F-Score (official): 21.004\n",
      "-----\n",
      "Micro F-Score: 32.75\n",
      "Precision: 32.75\n",
      "Recall: 32.75\n",
      "\n",
      "C:  3\n",
      "Macro F-Score (official): 21.374\n",
      "-----\n",
      "Micro F-Score: 32.2\n",
      "Precision: 32.2\n",
      "Recall: 32.2\n",
      "\n",
      "C:  4\n",
      "Macro F-Score (official): 21.728\n",
      "-----\n",
      "Micro F-Score: 31.97\n",
      "Precision: 31.97\n",
      "Recall: 31.97\n",
      "\n",
      "C:  5\n",
      "Macro F-Score (official): 21.748\n",
      "-----\n",
      "Micro F-Score: 31.54\n",
      "Precision: 31.54\n",
      "Recall: 31.54\n",
      "\n",
      "C:  6\n",
      "Macro F-Score (official): 21.708\n",
      "-----\n",
      "Micro F-Score: 31.14\n",
      "Precision: 31.14\n",
      "Recall: 31.14\n",
      "\n",
      "C:  7\n",
      "Macro F-Score (official): 21.663\n",
      "-----\n",
      "Micro F-Score: 30.86\n",
      "Precision: 30.86\n",
      "Recall: 30.86\n",
      "\n",
      "C:  8\n",
      "Macro F-Score (official): 21.519\n",
      "-----\n",
      "Micro F-Score: 30.57\n",
      "Precision: 30.57\n",
      "Recall: 30.57\n",
      "\n",
      "C:  9\n",
      "Macro F-Score (official): 21.456\n",
      "-----\n",
      "Micro F-Score: 30.31\n",
      "Precision: 30.31\n",
      "Recall: 30.31\n",
      "\n",
      "C:  10\n",
      "Macro F-Score (official): 21.328\n",
      "-----\n",
      "Micro F-Score: 30.03\n",
      "Precision: 30.03\n",
      "Recall: 30.03\n",
      "\n"
     ]
    }
   ],
   "source": [
    "for c in range(2,11):\n",
    "    print(\"C: \" , c )\n",
    "    LR = LogisticRegression(C=c)\n",
    "    LR.fit(en_train_tf, en_train_labels)\n",
    "    en_pred = LR.predict(en_test_tf)\n",
    "    np.savetxt('predicted_labels_file.txt', en_pred, fmt='%d')\n",
    "    np.savetxt('gold_labels_file.txt', np.array(en_test_labels), fmt='%s')\n",
    "    %run scorer_semeval18.py gold_labels_file.txt predicted_labels_file.txt\n",
    "    print()\n"
   ]
  },
  {
   "cell_type": "markdown",
   "metadata": {},
   "source": [
    "The highest Macro F-Score occurs when C = 5, but when C = 2 all the scores have an improvment, then all other scores except macro F-score start to drop."
   ]
  },
  {
   "cell_type": "markdown",
   "metadata": {},
   "source": [
    "# Spanish Predition"
   ]
  },
  {
   "cell_type": "code",
   "execution_count": 27,
   "metadata": {},
   "outputs": [],
   "source": [
    "with open(\"sp_train_texts_cleaned.txt\", 'r') as f:\n",
    "    sp_train_texts_cleaned_read = [l.strip() for l in f]"
   ]
  },
  {
   "cell_type": "code",
   "execution_count": 28,
   "metadata": {},
   "outputs": [],
   "source": [
    "with open(\"sp_test_texts_cleaned.txt\", 'r') as f:\n",
    "    sp_test_texts_cleaned_read = [l.strip() for l in f]"
   ]
  },
  {
   "cell_type": "code",
   "execution_count": 29,
   "metadata": {},
   "outputs": [],
   "source": [
    "sp_train_tf = tf2.fit_transform(sp_train_texts_cleaned_read)\n",
    "sp_test_tf = tf2.transform(sp_test_texts_cleaned_read)"
   ]
  },
  {
   "cell_type": "code",
   "execution_count": 30,
   "metadata": {
    "scrolled": true
   },
   "outputs": [
    {
     "name": "stdout",
     "output_type": "stream",
     "text": [
      "C:  1\n"
     ]
    },
    {
     "name": "stderr",
     "output_type": "stream",
     "text": [
      "/Users/yuhao/opt/anaconda3/lib/python3.7/site-packages/sklearn/linear_model/logistic.py:432: FutureWarning: Default solver will be changed to 'lbfgs' in 0.22. Specify a solver to silence this warning.\n",
      "  FutureWarning)\n",
      "/Users/yuhao/opt/anaconda3/lib/python3.7/site-packages/sklearn/linear_model/logistic.py:469: FutureWarning: Default multi_class will be changed to 'auto' in 0.22. Specify the multi_class option to silence this warning.\n",
      "  \"this warning.\", FutureWarning)\n"
     ]
    },
    {
     "name": "stdout",
     "output_type": "stream",
     "text": [
      "Macro F-Score (official): 7.685\n",
      "-----\n",
      "Micro F-Score: 29.2\n",
      "Precision: 29.2\n",
      "Recall: 29.2\n",
      "\n",
      "C:  2\n",
      "Macro F-Score (official): 9.126\n",
      "-----\n",
      "Micro F-Score: 29.5\n",
      "Precision: 29.5\n",
      "Recall: 29.5\n",
      "\n",
      "C:  3\n",
      "Macro F-Score (official): 11.244\n",
      "-----\n",
      "Micro F-Score: 30.1\n",
      "Precision: 30.1\n",
      "Recall: 30.1\n",
      "\n",
      "C:  4\n",
      "Macro F-Score (official): 11.432\n",
      "-----\n",
      "Micro F-Score: 29.8\n",
      "Precision: 29.8\n",
      "Recall: 29.8\n",
      "\n",
      "C:  5\n",
      "Macro F-Score (official): 12.116\n",
      "-----\n",
      "Micro F-Score: 29.7\n",
      "Precision: 29.7\n",
      "Recall: 29.7\n",
      "\n",
      "C:  6\n",
      "Macro F-Score (official): 12.16\n",
      "-----\n",
      "Micro F-Score: 29.4\n",
      "Precision: 29.4\n",
      "Recall: 29.4\n",
      "\n",
      "C:  7\n",
      "Macro F-Score (official): 12.745\n",
      "-----\n",
      "Micro F-Score: 29.7\n",
      "Precision: 29.7\n",
      "Recall: 29.7\n",
      "\n",
      "C:  8\n",
      "Macro F-Score (official): 12.749\n",
      "-----\n",
      "Micro F-Score: 29.4\n",
      "Precision: 29.4\n",
      "Recall: 29.4\n",
      "\n",
      "C:  9\n",
      "Macro F-Score (official): 12.904\n",
      "-----\n",
      "Micro F-Score: 29.5\n",
      "Precision: 29.5\n",
      "Recall: 29.5\n",
      "\n",
      "C:  10\n",
      "Macro F-Score (official): 12.905\n",
      "-----\n",
      "Micro F-Score: 29.6\n",
      "Precision: 29.6\n",
      "Recall: 29.6\n",
      "\n"
     ]
    }
   ],
   "source": [
    "for c in range(1,11):\n",
    "    print(\"C: \" , c )\n",
    "    LR = LogisticRegression(C=c)\n",
    "    LR.fit(sp_train_tf, sp_train_labels)\n",
    "    sp_pred = LR.predict(sp_test_tf)\n",
    "    np.savetxt('predicted_labels_file.txt', sp_pred, fmt='%d')\n",
    "    np.savetxt('gold_labels_file.txt', np.array(sp_test_labels), fmt='%s')\n",
    "    %run scorer_semeval18.py gold_labels_file.txt predicted_labels_file.txt\n",
    "    print()"
   ]
  },
  {
   "cell_type": "markdown",
   "metadata": {},
   "source": [
    "## Try SVM"
   ]
  },
  {
   "cell_type": "code",
   "execution_count": 31,
   "metadata": {},
   "outputs": [],
   "source": [
    "from sklearn.preprocessing import Normalizer\n",
    "from sklearn.svm import SVC"
   ]
  },
  {
   "cell_type": "code",
   "execution_count": 32,
   "metadata": {},
   "outputs": [],
   "source": [
    "svm = SVC(kernel=\"linear\", C=5,random_state=14)"
   ]
  },
  {
   "cell_type": "markdown",
   "metadata": {},
   "source": [
    "### English Predcition SVM"
   ]
  },
  {
   "cell_type": "code",
   "execution_count": 33,
   "metadata": {},
   "outputs": [],
   "source": [
    "svm.fit(en_train_tf, en_train_labels)\n",
    "en_pred_svm = svm.predict(en_test_tf)"
   ]
  },
  {
   "cell_type": "code",
   "execution_count": 34,
   "metadata": {},
   "outputs": [
    {
     "name": "stdout",
     "output_type": "stream",
     "text": [
      "Macro F-Score (official): 20.744\n",
      "-----\n",
      "Micro F-Score: 29.46\n",
      "Precision: 29.46\n",
      "Recall: 29.46\n"
     ]
    }
   ],
   "source": [
    "np.savetxt('predicted_labels_file.txt', en_pred_svm, fmt='%d')\n",
    "np.savetxt('gold_labels_file.txt', np.array(en_test_labels), fmt='%s')\n",
    "%run scorer_semeval18.py gold_labels_file.txt predicted_labels_file.txt"
   ]
  },
  {
   "cell_type": "markdown",
   "metadata": {},
   "source": [
    "### Spanish Prediction SVM"
   ]
  },
  {
   "cell_type": "code",
   "execution_count": 35,
   "metadata": {},
   "outputs": [],
   "source": [
    "svm.fit(sp_train_tf, sp_train_labels)\n",
    "sp_pred_svm = svm.predict(sp_test_tf)"
   ]
  },
  {
   "cell_type": "code",
   "execution_count": 36,
   "metadata": {},
   "outputs": [
    {
     "name": "stdout",
     "output_type": "stream",
     "text": [
      "Macro F-Score (official): 12.612\n",
      "-----\n",
      "Micro F-Score: 28.8\n",
      "Precision: 28.8\n",
      "Recall: 28.8\n"
     ]
    }
   ],
   "source": [
    "np.savetxt('predicted_labels_file.txt', sp_pred_svm, fmt='%d')\n",
    "np.savetxt('gold_labels_file.txt', np.array(sp_test_labels), fmt='%s')\n",
    "%run scorer_semeval18.py gold_labels_file.txt predicted_labels_file.txt"
   ]
  },
  {
   "cell_type": "code",
   "execution_count": null,
   "metadata": {},
   "outputs": [],
   "source": []
  }
 ],
 "metadata": {
  "kernelspec": {
   "display_name": "Python 3",
   "language": "python",
   "name": "python3"
  },
  "language_info": {
   "codemirror_mode": {
    "name": "ipython",
    "version": 3
   },
   "file_extension": ".py",
   "mimetype": "text/x-python",
   "name": "python",
   "nbconvert_exporter": "python",
   "pygments_lexer": "ipython3",
   "version": "3.7.4"
  }
 },
 "nbformat": 4,
 "nbformat_minor": 4
}
