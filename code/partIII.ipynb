{
 "cells": [
  {
   "cell_type": "code",
   "execution_count": 1,
   "metadata": {},
   "outputs": [],
   "source": [
    "import numpy as np\n",
    "import preprocessor as p\n",
    "import re\n",
    "import codecs\n",
    "from nltk.corpus import stopwords\n",
    "from nltk.tokenize import word_tokenize\n",
    "from string import punctuation\n",
    "from nltk.stem.snowball import EnglishStemmer\n",
    "from nltk.stem.snowball import SpanishStemmer\n",
    "from sklearn.feature_extraction.text import TfidfVectorizer\n",
    "from sklearn.linear_model import LogisticRegression\n",
    "from translate import Translator"
   ]
  },
  {
   "cell_type": "code",
   "execution_count": 2,
   "metadata": {},
   "outputs": [],
   "source": [
    "# !pip install translate\n",
    "# !pip install tweet-preprocessor"
   ]
  },
  {
   "cell_type": "markdown",
   "metadata": {},
   "source": [
    "## Load Data"
   ]
  },
  {
   "cell_type": "code",
   "execution_count": 3,
   "metadata": {},
   "outputs": [],
   "source": [
    "with open(\"data/train/english_train.text\", 'r') as f:\n",
    "    en_train_texts = [l.strip() for l in f]\n",
    "\n",
    "with open('data/train/english_train.labels', 'r') as f:\n",
    "    en_train_labels = [int(l.strip()) for l in f]\n",
    "\n",
    "with open(\"data/test/english_test.text\", 'r') as f:\n",
    "    en_test_texts = [l.strip() for l in f]\n",
    "\n",
    "with open('data/test/english_test.labels', 'r') as f:\n",
    "    en_test_labels = [int(l.strip()) for l in f]\n",
    "\n",
    "with open(\"data/train/spanish_train.text\", 'r') as f:\n",
    "    sp_train_texts = [l.strip() for l in f]\n",
    "\n",
    "with open('data/train/spanish_train.labels', 'r') as f:\n",
    "    sp_train_labels = [int(l.strip()) for l in f]\n",
    "\n",
    "with open(\"data/test/spanish_test.text\", 'r') as f:\n",
    "    sp_test_texts = [l.strip() for l in f]\n",
    "\n",
    "with open('data/test/spanish_test.labels', 'r') as f:\n",
    "    sp_test_labels = [int(l.strip()) for l in f]\n",
    "    \n",
    "with open(\"data/mapping/english_mapping.txt\", 'r') as f:\n",
    "    en_mapping = [l.strip() for l in f]\n",
    "    \n",
    "with open(\"data/mapping/spanish_mapping.txt\", 'r') as f:\n",
    "    sp_mapping = [l.strip() for l in f]"
   ]
  },
  {
   "cell_type": "markdown",
   "metadata": {},
   "source": [
    "### Remove emoji that only in English or Spanish"
   ]
  },
  {
   "cell_type": "code",
   "execution_count": 4,
   "metadata": {},
   "outputs": [],
   "source": [
    "sp_remove_ls = [6,  7,  8,  14,  16,  17]\n",
    "en_remove_ls = [4, 10, 12, 14, 15, 17, 18]"
   ]
  },
  {
   "cell_type": "code",
   "execution_count": 5,
   "metadata": {},
   "outputs": [],
   "source": [
    "def remove_unmatched_label(text, label, remove_ls):\n",
    "    all_index_to_remove = []\n",
    "    for i in remove_ls:\n",
    "        train_has_one_of_unmatched_index =  [index for index, value in enumerate(label) if value == i]\n",
    "        all_index_to_remove += train_has_one_of_unmatched_index\n",
    "    all_index_to_remove.sort()\n",
    "    \n",
    "    texts_removed = [text[i] for i in range(len(text)) if i not  in all_index_to_remove]\n",
    "    labels_removed = [label[i] for i in range(len(label)) if i not  in all_index_to_remove]\n",
    "    \n",
    "    return texts_removed, labels_removed"
   ]
  },
  {
   "cell_type": "code",
   "execution_count": 6,
   "metadata": {},
   "outputs": [],
   "source": [
    "en_train_texts_removed,  en_train_labels_removed = remove_unmatched_label(en_train_texts, en_train_labels,  en_remove_ls)\n",
    "en_test_texts_removed,  en_test_labels_removed = remove_unmatched_label(en_test_texts, en_test_labels,  en_remove_ls)"
   ]
  },
  {
   "cell_type": "code",
   "execution_count": 7,
   "metadata": {},
   "outputs": [],
   "source": [
    "sp_train_texts_removed,  sp_train_labels_removed = remove_unmatched_label(sp_train_texts, sp_train_labels,  sp_remove_ls)\n",
    "sp_test_texts_removed,  sp_test_labels_removed = remove_unmatched_label(sp_test_texts, sp_test_labels,  sp_remove_ls)"
   ]
  },
  {
   "cell_type": "markdown",
   "metadata": {},
   "source": [
    "Match Spanish emoji index to English index"
   ]
  },
  {
   "cell_type": "code",
   "execution_count": 8,
   "metadata": {},
   "outputs": [],
   "source": [
    "def rematched_sp_labels(sp_labels):\n",
    "    sp_labels_removed_rematched = []\n",
    "    sp_labels_removed_rematched = [ 8 if  i == 11 else i for i in sp_labels]\n",
    "    sp_labels_removed_rematched = [ 19 if  i == 13 else i for i in sp_labels_removed_rematched]\n",
    "    sp_labels_removed_rematched = [ 7 if  i == 15 else i for i in sp_labels_removed_rematched]\n",
    "    sp_labels_removed_rematched = [ 16 if  i == 18 else i for i in sp_labels_removed_rematched]\n",
    "    sp_labels_removed_rematched = [ 13 if  i == 12 else i for i in sp_labels_removed_rematched]\n",
    "    sp_labels_removed_rematched = [ 11 if  i == 9 else i for i in sp_labels_removed_rematched]\n",
    "    sp_labels_removed_rematched = [ 9 if  i == 5 else i for i in sp_labels_removed_rematched]\n",
    "    return sp_labels_removed_rematched"
   ]
  },
  {
   "cell_type": "code",
   "execution_count": 9,
   "metadata": {},
   "outputs": [],
   "source": [
    "sp_train_labels_removed_rematched = rematched_sp_labels(sp_train_labels_removed)\n",
    "sp_test_labels_removed_rematched = rematched_sp_labels(sp_test_labels_removed)"
   ]
  },
  {
   "cell_type": "code",
   "execution_count": 10,
   "metadata": {},
   "outputs": [],
   "source": [
    "p.set_options(p.OPT.URL, p.OPT.SMILEY, p.OPT.MENTION)\n",
    "translator = str.maketrans(\"\", \"\", punctuation)\n",
    "get_stem_en = EnglishStemmer()\n",
    "stop_words = set( (stopwords.words('english')) + (stopwords.words('spanish')) )"
   ]
  },
  {
   "cell_type": "code",
   "execution_count": 11,
   "metadata": {},
   "outputs": [],
   "source": [
    "def clean_text_en(texts):\n",
    "    result = []\n",
    "    for text in texts:\n",
    "        #remove URL links, Smiley, and @user\n",
    "        text = p.clean(text)\n",
    "        \n",
    "        #make everything lower case\n",
    "        text = text.lower()\n",
    "        #remove stopwords\n",
    "        text = ' '.join([i for i in text.split() if i not in stop_words])\n",
    "        #remove punctuation\n",
    "        text = text.translate(translator)\n",
    "        #change every word to stem word\n",
    "        text = [get_stem_en.stem(i) for i  in word_tokenize(text)]\n",
    "        result.append(' '.join(text))\n",
    "    \n",
    "    return result"
   ]
  },
  {
   "cell_type": "code",
   "execution_count": 29,
   "metadata": {},
   "outputs": [],
   "source": [
    "en_train_texts_rm_cleaned = clean_text_en(en_train_texts_removed)\n",
    "en_test_texts_rm_cleaned = clean_text_en(en_test_texts_removed)"
   ]
  },
  {
   "cell_type": "code",
   "execution_count": 30,
   "metadata": {},
   "outputs": [],
   "source": [
    "with codecs.open(\"en_train_texts_removed_cleaned.txt\",'w',\"utf-8\") as out_fs:\n",
    "    for each in en_train_texts_rm_cleaned:\n",
    "        out_fs.write(each + \"\\n\")\n",
    "        \n",
    "    \n",
    "with codecs.open(\"en_test_texts_removed_cleaned.txt\",'w',\"utf-8\") as out_fs:\n",
    "    for each in en_test_texts_rm_cleaned:\n",
    "        out_fs.write(each + \"\\n\")"
   ]
  },
  {
   "cell_type": "code",
   "execution_count": 14,
   "metadata": {},
   "outputs": [],
   "source": [
    "get_stem_sp = SpanishStemmer()"
   ]
  },
  {
   "cell_type": "code",
   "execution_count": 15,
   "metadata": {},
   "outputs": [],
   "source": [
    "def clean_text_sp(texts):\n",
    "    result = []\n",
    "    for text in texts:\n",
    "        #remove URL links, Smiley, and @user\n",
    "        text = p.clean(text)\n",
    "        \n",
    "        #make everything lower case\n",
    "        text = text.lower()\n",
    "        #remove stopwords\n",
    "        text = ' '.join([i for i in text.split() if i not in stop_words])\n",
    "        #remove punctuation\n",
    "        text = text.translate(translator)\n",
    "        #change every word to stem word\n",
    "        text = [get_stem_sp.stem(i) for i  in word_tokenize(text)]\n",
    "        result.append(' '.join(text))\n",
    "    \n",
    "    return result"
   ]
  },
  {
   "cell_type": "code",
   "execution_count": 16,
   "metadata": {},
   "outputs": [],
   "source": [
    "sp_train_texts_rm_cleaned = clean_text_sp(sp_train_texts_removed)\n",
    "sp_test_texts_rm_cleaned = clean_text_sp(sp_test_texts_removed)"
   ]
  },
  {
   "cell_type": "code",
   "execution_count": 17,
   "metadata": {},
   "outputs": [],
   "source": [
    "with codecs.open(\"sp_train_texts_removed_cleaned.txt\",'w',\"utf-8\") as out_fs:\n",
    "    for each in sp_train_texts_rm_cleaned:\n",
    "        out_fs.write(each + \"\\n\")\n",
    "        \n",
    "with codecs.open(\"sp_test_texts_removed_cleaned.txt\",'w',\"utf-8\") as out_fs:\n",
    "    for each in sp_test_texts_rm_cleaned:\n",
    "        out_fs.write(each + \"\\n\")"
   ]
  },
  {
   "cell_type": "markdown",
   "metadata": {},
   "source": [
    "# Spanish to English Translation"
   ]
  },
  {
   "cell_type": "code",
   "execution_count": 18,
   "metadata": {},
   "outputs": [],
   "source": [
    "trans = str.maketrans(\"\", \"\", punctuation)\n",
    "sp_to_en_translator =  Translator(from_lang=\"spanish\", to_lang=\"english\")"
   ]
  },
  {
   "cell_type": "code",
   "execution_count": 19,
   "metadata": {},
   "outputs": [],
   "source": [
    "def sp_to_en(texts):\n",
    "    result = []\n",
    "\n",
    "    for txt in texts:\n",
    "         #remove URL links, Smiley, and @user\n",
    "        txt = p.clean(txt)\n",
    "        #remove punctuation\n",
    "        txt = txt.translate(trans)\n",
    "        \n",
    "        #Spanish to English translation\n",
    "        txt = sp_to_en_translator.translate(txt)\n",
    "        #make everything lower case\n",
    "        txt = txt.lower()\n",
    "        #remove stopwords\n",
    "        txt = ' '.join([i for i in txt.split() if i not in (stopwords.words('english'))])\n",
    "        #change every word to stem word\n",
    "        txt = [get_stem_en.stem(i) for i  in word_tokenize(txt)]\n",
    "        result.append(' '.join(txt))\n",
    "            \n",
    "    return result"
   ]
  },
  {
   "cell_type": "code",
   "execution_count": 20,
   "metadata": {},
   "outputs": [],
   "source": [
    "with open(\"sp_train_texts_removed_cleaned.txt\", 'r') as f:\n",
    "    sp_train_texts_rm_cleaned_read = [l.strip() for l in f]\n",
    "\n",
    "with open(\"sp_test_texts_removed_cleaned.txt\", 'r') as f:\n",
    "    sp_test_texts_rm_cleaned_read = [l.strip() for l in f]"
   ]
  },
  {
   "cell_type": "code",
   "execution_count": 21,
   "metadata": {
    "scrolled": true
   },
   "outputs": [],
   "source": [
    "en_train_from_sp = sp_to_en(sp_train_texts_rm_cleaned_read)\n",
    "en_test_from_sp = sp_to_en(sp_test_texts_rm_cleaned_read)"
   ]
  },
  {
   "cell_type": "code",
   "execution_count": 31,
   "metadata": {},
   "outputs": [],
   "source": [
    "with open(\"en_train_texts_removed_cleaned.txt\", 'r') as f:\n",
    "    en_train_texts_rm_cleaned_read = [l.strip() for l in f]\n",
    "\n",
    "with open(\"en_test_texts_removed_cleaned.txt\", 'r') as f:\n",
    "    en_test_texts_rm_cleaned_read = [l.strip() for l in f]"
   ]
  },
  {
   "cell_type": "code",
   "execution_count": 32,
   "metadata": {},
   "outputs": [],
   "source": [
    "en_train_text_new = en_train_texts_rm_cleaned_read + en_train_from_sp\n",
    "en_test_text_new = en_test_texts_rm_cleaned_read + en_test_from_sp"
   ]
  },
  {
   "cell_type": "code",
   "execution_count": 33,
   "metadata": {},
   "outputs": [],
   "source": [
    "en_train_labels_new = en_train_labels_removed + sp_train_labels_removed_rematched\n",
    "en_test_labels_new = en_test_labels_removed + sp_test_labels_removed_rematched"
   ]
  },
  {
   "cell_type": "code",
   "execution_count": 36,
   "metadata": {},
   "outputs": [
    {
     "name": "stdout",
     "output_type": "stream",
     "text": [
      "84817\n",
      "8288\n",
      "84817\n",
      "8288\n"
     ]
    }
   ],
   "source": [
    "print(len(en_train_text_new))\n",
    "print(len(en_test_text_new))\n",
    "print(len(en_train_labels_new))\n",
    "print(len(en_test_labels_new))"
   ]
  },
  {
   "cell_type": "code",
   "execution_count": 39,
   "metadata": {},
   "outputs": [],
   "source": [
    "tf = TfidfVectorizer()\n",
    "en_train_tf = tf.fit_transform(en_train_text_new)\n",
    "en_test_tf = tf.transform(en_test_text_new)"
   ]
  },
  {
   "cell_type": "code",
   "execution_count": 40,
   "metadata": {},
   "outputs": [
    {
     "name": "stderr",
     "output_type": "stream",
     "text": [
      "/Users/yuhao/opt/anaconda3/lib/python3.7/site-packages/sklearn/linear_model/logistic.py:432: FutureWarning: Default solver will be changed to 'lbfgs' in 0.22. Specify a solver to silence this warning.\n",
      "  FutureWarning)\n",
      "/Users/yuhao/opt/anaconda3/lib/python3.7/site-packages/sklearn/linear_model/logistic.py:469: FutureWarning: Default multi_class will be changed to 'auto' in 0.22. Specify the multi_class option to silence this warning.\n",
      "  \"this warning.\", FutureWarning)\n"
     ]
    },
    {
     "name": "stdout",
     "output_type": "stream",
     "text": [
      "Macro F-Score (official): 18.05\n",
      "-----\n",
      "Micro F-Score: 34.809\n",
      "Precision: 34.809\n",
      "Recall: 34.809\n",
      "\n"
     ]
    }
   ],
   "source": [
    "LR = LogisticRegression(C=5)\n",
    "LR.fit(en_train_tf, en_train_labels_new)\n",
    "    \n",
    "en_pred = LR.predict(en_test_tf)\n",
    "    \n",
    "np.savetxt('predicted_labels_file.txt', en_pred, fmt='%d')\n",
    "np.savetxt('gold_labels_file.txt', np.array(en_test_labels_new), fmt='%d')\n",
    "%run scorer_semeval18.py gold_labels_file.txt predicted_labels_file.txt\n",
    "print()"
   ]
  },
  {
   "cell_type": "code",
   "execution_count": 37,
   "metadata": {},
   "outputs": [
    {
     "name": "stdout",
     "output_type": "stream",
     "text": [
      "69835\n",
      "(69835, 70662)\n",
      "8288\n",
      "8288\n"
     ]
    }
   ],
   "source": [
    "print(len(en_pred))\n",
    "print(en_test_tf.shape)\n",
    "print(len(en_test_text_new))\n",
    "print(len(en_test_labels_new))"
   ]
  },
  {
   "cell_type": "code",
   "execution_count": null,
   "metadata": {},
   "outputs": [],
   "source": []
  },
  {
   "cell_type": "code",
   "execution_count": null,
   "metadata": {},
   "outputs": [],
   "source": []
  }
 ],
 "metadata": {
  "kernelspec": {
   "display_name": "Python 3",
   "language": "python",
   "name": "python3"
  },
  "language_info": {
   "codemirror_mode": {
    "name": "ipython",
    "version": 3
   },
   "file_extension": ".py",
   "mimetype": "text/x-python",
   "name": "python",
   "nbconvert_exporter": "python",
   "pygments_lexer": "ipython3",
   "version": "3.7.4"
  }
 },
 "nbformat": 4,
 "nbformat_minor": 4
}
